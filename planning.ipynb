{
 "cells": [
  {
   "cell_type": "markdown",
   "metadata": {},
   "source": [
    "# Plan observable transits tonight: "
   ]
  },
  {
   "cell_type": "code",
   "execution_count": 125,
   "metadata": {},
   "outputs": [],
   "source": [
    "%matplotlib inline\n",
    "from astroplan import (FixedTarget, Observer, is_event_observable, \n",
    "                       AirmassConstraint, AtNightConstraint, \n",
    "                       MoonSeparationConstraint)\n",
    "from astroplan.periodic import EclipsingSystem\n",
    "import astropy.units as u\n",
    "from astropy.time import Time\n",
    "import numpy as np\n",
    "import matplotlib.pyplot as plt\n",
    "from astropy.table import Table\n",
    "from astroquery.simbad import Simbad\n",
    "\n",
    "Simbad.add_votable_fields('flux(V)')"
   ]
  },
  {
   "cell_type": "markdown",
   "metadata": {},
   "source": [
    "Download a table of known transiting exoplanets: "
   ]
  },
  {
   "cell_type": "code",
   "execution_count": 15,
   "metadata": {},
   "outputs": [
    {
     "name": "stdout",
     "output_type": "stream",
     "text": [
      "Downloading http://exoplanets.org/csv-files/exoplanets.csv [Done]\n"
     ]
    }
   ],
   "source": [
    "from astroquery.exoplanet_orbit_database import ExoplanetOrbitDatabase\n",
    "\n",
    "exoplanet_table = ExoplanetOrbitDatabase.get_table()\n",
    "transit_table = exoplanet_table[exoplanet_table['TRANSIT'] == 1]"
   ]
  },
  {
   "cell_type": "markdown",
   "metadata": {},
   "source": [
    "Create an astroplan [`EclipsingSystem`](https://astroplan.readthedocs.io/en/latest/api/astroplan.EclipsingSystem.html) object for each transiting exoplanet: "
   ]
  },
  {
   "cell_type": "code",
   "execution_count": 128,
   "metadata": {},
   "outputs": [],
   "source": [
    "periods = transit_table['PER']\n",
    "epochs = transit_table['T0']\n",
    "durations = transit_table['T14']\n",
    "names = transit_table['NAME']\n",
    "simbad_names = transit_table['SIMBADNAME']\n",
    "radius_ratio = transit_table['RR']\n",
    "sky_coords = transit_table['sky_coord']\n",
    "\n",
    "eclipsing_systems = []\n",
    "depths = []\n",
    "coords = []\n",
    "for p, t0, dur, name, rprs, coord in zip(periods, epochs, durations, names, radius_ratio, sky_coords):\n",
    "    if not any([isinstance(i, np.ma.core.MaskedConstant) for i in [p, t0, dur]]):\n",
    "        eclisping_sys = EclipsingSystem(Time(t0, format='jd'), p, duration=dur, name=name)\n",
    "        eclipsing_systems.append(eclisping_sys)\n",
    "        depths.append(rprs**2)\n",
    "        coords.append(coord)"
   ]
  },
  {
   "cell_type": "markdown",
   "metadata": {},
   "source": [
    "Initialize the observatory, and say we're observing tonight: "
   ]
  },
  {
   "cell_type": "code",
   "execution_count": 83,
   "metadata": {},
   "outputs": [],
   "source": [
    "mro = Observer.at_site('MRO')\n",
    "start, end = mro.tonight(Time.now() + 2*u.day)"
   ]
  },
  {
   "cell_type": "markdown",
   "metadata": {},
   "source": [
    "Define observing constraints: "
   ]
  },
  {
   "cell_type": "code",
   "execution_count": 95,
   "metadata": {},
   "outputs": [],
   "source": [
    "constraints = [AirmassConstraint(max=3), AtNightConstraint.twilight_civil(), \n",
    "               MoonSeparationConstraint(min=20*u.deg)]"
   ]
  },
  {
   "cell_type": "markdown",
   "metadata": {},
   "source": [
    "Only compute observablility for transits of exoplanets with $R_p/R_\\star >$ `minimum_radius_ratio` :"
   ]
  },
  {
   "cell_type": "code",
   "execution_count": 174,
   "metadata": {},
   "outputs": [
    {
     "name": "stderr",
     "output_type": "stream",
     "text": [
      "/Users/bmmorris/anaconda/lib/python3.5/site-packages/astropy/table/np_utils.py:191: UserWarning: Warning: converting a masked element to nan.\n",
      "  array_list = [np.array(obj[..., i].tolist()) for i in range(nfields)]\n",
      "/Users/bmmorris/anaconda/lib/python3.5/site-packages/astroquery/simbad/core.py:136: UserWarning: Warning: The script line number 3 raised an error (recorded in the `errors` attribute of the result table): '--': this identifier has an incorrect format for catalog: \tDM : Durchmusterung catalogue\n",
      "  (error.line, error.msg))\n",
      "/Users/bmmorris/anaconda/lib/python3.5/site-packages/astropy/table/np_utils.py:191: UserWarning: Warning: converting a masked element to nan.\n",
      "  array_list = [np.array(obj[..., i].tolist()) for i in range(nfields)]\n",
      "/Users/bmmorris/anaconda/lib/python3.5/site-packages/astropy/table/np_utils.py:191: UserWarning: Warning: converting a masked element to nan.\n",
      "  array_list = [np.array(obj[..., i].tolist()) for i in range(nfields)]\n"
     ]
    }
   ],
   "source": [
    "minimum_radius_ratio = 0.1\n",
    "n_days = 5\n",
    "\n",
    "transit_events = []\n",
    "labels = 'Name, Depth, Ingress, Egress, RA, Dec, V'.split(', ')\n",
    "\n",
    "for day in range(n_days):\n",
    "    transits_day = []\n",
    "    for sb_name, name, es, coord, rr in zip(simbad_names, names, eclipsing_systems, coords, radius_ratio):\n",
    "        if rr > minimum_radius_ratio:\n",
    "            next_transit = es.next_primary_ingress_egress_time(start+day*u.day, n_eclipses=1)\n",
    "\n",
    "            if next_transit[0, 1] < end+day*u.day and next_transit[0, 0] > start+day*u.day: \n",
    "                observable = True\n",
    "                \n",
    "                if observable: \n",
    "                    query = Simbad.query_object(sb_name)\n",
    "                    if query is not None and 'FLUX_V' in query.colnames: \n",
    "                        vmag = query['FLUX_V'][0]\n",
    "                    else: \n",
    "                        vmag = np.nan\n",
    "                    transits_day.append([name, round(rr**2, 3), next_transit[0, 0].iso, next_transit[0, 1].iso, \n",
    "                                         coord.ra.deg, coord.dec.deg, vmag])\n",
    "    if len(transits_day) > 0:\n",
    "        transit_events.append(Table(rows=transits_day, names=labels))\n",
    "    else: \n",
    "        transit_events.append(None)"
   ]
  },
  {
   "cell_type": "code",
   "execution_count": 176,
   "metadata": {},
   "outputs": [
    {
     "name": "stdout",
     "output_type": "stream",
     "text": [
      "\n",
      "\n",
      "Transits on 2018-12-12 UTC:\n",
      "    Name     Depth         Ingress                  Egress                 RA                Dec         V \n",
      "------------ ----- ----------------------- ----------------------- ------------------ ----------------- ---\n",
      "Kepler-423 b 0.015 2018-12-12 02:44:12.173 2018-12-12 05:23:04.944 299.12745833396906 47.59383055580987 nan\n",
      "\n",
      "\n",
      "Transits on 2018-12-13 UTC:\n",
      "None\n",
      "\n",
      "\n",
      "Transits on 2018-12-14 UTC:\n",
      "    Name     Depth         Ingress                  Egress                 RA               Dec          V \n",
      "------------ ----- ----------------------- ----------------------- ----------------- ------------------ ---\n",
      "Kepler-785 b 0.028 2018-12-14 10:32:00.705 2018-12-14 14:05:33.825 62.61604166825612 -45.89822222179836 nan\n",
      "  WASP-104 b 0.015 2018-12-14 07:45:52.009 2018-12-14 09:48:23.207 284.8280833323796  44.60873055564033 nan\n",
      "\n",
      "\n",
      "Transits on 2018-12-15 UTC:\n",
      "    Name     Depth         Ingress                  Egress                 RA                Dec                 V         \n",
      "------------ ----- ----------------------- ----------------------- ------------------ ------------------ ------------------\n",
      "   WASP-38 b 0.011 2018-12-15 08:09:16.152 2018-12-15 10:36:08.952   349.623083337148  24.88927777767181  9.390000343322754\n",
      "   WASP-83 b  0.01 2018-12-15 11:14:47.928 2018-12-15 13:39:13.848 42.721679162979115  29.02238888899485 12.880000114440918\n",
      "  HAT-P-53 b 0.013 2018-12-15 11:52:42.460 2018-12-15 13:59:53.308  91.08947500387825 -16.96527777777778 13.732999801635742\n",
      "Kepler-423 b 0.015 2018-12-15 02:02:57.072 2018-12-15 04:41:49.843 299.12745833396906  47.59383055580987                nan\n",
      "\n",
      "\n",
      "Transits on 2018-12-16 UTC:\n",
      "   Name    Depth         Ingress                  Egress                 RA                Dec         V  \n",
      "---------- ----- ----------------------- ----------------------- ------------------ ----------------- ----\n",
      "WASP-103 b 0.012 2018-12-16 03:57:21.241 2018-12-16 05:24:49.402 298.62489167054486 48.57744444423252 12.1\n"
     ]
    }
   ],
   "source": [
    "for i, table in enumerate(transit_events):\n",
    "    print('\\n\\nTransits on {0} UTC:'.format((start+i*u.day).datetime.date()))\n",
    "    if table is not None: \n",
    "        table.sort('V')\n",
    "        table.pprint(max_width=1000)\n",
    "    else:\n",
    "        print('None')"
   ]
  },
  {
   "cell_type": "code",
   "execution_count": null,
   "metadata": {},
   "outputs": [],
   "source": []
  }
 ],
 "metadata": {
  "kernelspec": {
   "display_name": "Python 3",
   "language": "python",
   "name": "python3"
  },
  "language_info": {
   "codemirror_mode": {
    "name": "ipython",
    "version": 3
   },
   "file_extension": ".py",
   "mimetype": "text/x-python",
   "name": "python",
   "nbconvert_exporter": "python",
   "pygments_lexer": "ipython3",
   "version": "3.5.4"
  }
 },
 "nbformat": 4,
 "nbformat_minor": 2
}
