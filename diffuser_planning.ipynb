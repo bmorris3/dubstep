{
 "cells": [
  {
   "cell_type": "markdown",
   "metadata": {},
   "source": [
    "# Plan observable transits tonight: "
   ]
  },
  {
   "cell_type": "code",
   "execution_count": 1,
   "metadata": {},
   "outputs": [
    {
     "name": "stderr",
     "output_type": "stream",
     "text": [
      "WARNING: OldEarthOrientationDataWarning: Your version of the IERS Bulletin A is 29.6 days old. For best precision (on the order of arcseconds), you must download an up-to-date IERS Bulletin A table. To do so, run:\n",
      "\n",
      ">>> from astroplan import download_IERS_A\n",
      ">>> download_IERS_A()\n",
      " [astroplan.utils]\n"
     ]
    }
   ],
   "source": [
    "%matplotlib inline\n",
    "from astroplan import (FixedTarget, Observer, is_event_observable, \n",
    "                       AltitudeConstraint, AtNightConstraint, \n",
    "                       MoonSeparationConstraint)\n",
    "from astroplan.periodic import EclipsingSystem\n",
    "import astropy.units as u\n",
    "from astropy.time import Time\n",
    "import numpy as np\n",
    "import matplotlib.pyplot as plt\n",
    "from astropy.table import Table"
   ]
  },
  {
   "cell_type": "markdown",
   "metadata": {},
   "source": [
    "Download a table of known transiting exoplanets: "
   ]
  },
  {
   "cell_type": "markdown",
   "metadata": {},
   "source": [
    "Create an astroplan [`EclipsingSystem`](https://astroplan.readthedocs.io/en/latest/api/astroplan.EclipsingSystem.html) object for each transiting exoplanet: "
   ]
  },
  {
   "cell_type": "code",
   "execution_count": 3,
   "metadata": {},
   "outputs": [
    {
     "name": "stdout",
     "output_type": "stream",
     "text": [
      "Downloading http://exoplanetarchive.ipac.caltech.edu/cgi-bin/nstedAPI/nph-nstedAPI?table=exoplanets&select=* [Done]\n"
     ]
    }
   ],
   "source": [
    "from astroquery.nasa_exoplanet_archive import NasaExoplanetArchive\n",
    "from astropy.table import Column\n",
    "\n",
    "nasa_exoplanet_table = NasaExoplanetArchive.get_confirmed_planets_table(cache=False, all_columns=True)\n",
    "nasa_transit_table = nasa_exoplanet_table[nasa_exoplanet_table['pl_discmethod'] == 'Transit']\n",
    "nasa_transit_table.add_index('pl_name')"
   ]
  },
  {
   "cell_type": "code",
   "execution_count": 273,
   "metadata": {},
   "outputs": [
    {
     "name": "stderr",
     "output_type": "stream",
     "text": [
      "/Users/bmmorris/anaconda/lib/python3.5/site-packages/astropy/units/quantity.py:639: RuntimeWarning: invalid value encountered in sqrt\n",
      "  result = super().__array_ufunc__(function, method, *arrays, **kwargs)\n"
     ]
    }
   ],
   "source": [
    "from astropy.constants import G, M_sun, R_sun\n",
    "\n",
    "inc = nasa_transit_table['pl_orbincl']\n",
    "inc[inc == 0*u.deg] = 90*u.deg\n",
    "# a = nasa_transit_table['pl_orbsmax']\n",
    "period = nasa_transit_table['pl_orbper']\n",
    "\n",
    "# Kepler's law\n",
    "mstar = nasa_transit_table['st_mass']\n",
    "mstar[mstar == 0*M_sun] = 1 * M_sun\n",
    "a = (( G*mstar / (4*np.pi**2) * period**2 )**(1/3) ).decompose()\n",
    "\n",
    "rp = nasa_transit_table['pl_radj']\n",
    "rstar = nasa_transit_table['st_rad']\n",
    "rstar[rstar == 0*R_sun] = 1*R_sun\n",
    "ecc = nasa_transit_table['pl_orbeccen']\n",
    "arstar = (a/rstar).decompose()\n",
    "arstar[arstar == 0] = 10\n",
    "b = arstar * np.cos(inc)\n",
    "#rprstar = nasa_transit_table['pl_ratror']\n",
    "rprstar = (rp/rstar).decompose()\n",
    "ecc = nasa_transit_table['pl_orbeccen'].filled(0)\n",
    "omega = np.radians(nasa_transit_table['pl_orblper'].filled(90))\n",
    "\n",
    "durations = period/np.pi * np.arcsin( np.sqrt((1 + rprstar)**2 - b**2) / np.sin(inc) / arstar).value * np.sqrt(1 - ecc**2) / (1 + ecc*np.sin(omega))\n",
    "durations[np.isnan(durations)] = 0*u.day"
   ]
  },
  {
   "cell_type": "code",
   "execution_count": 274,
   "metadata": {},
   "outputs": [],
   "source": [
    "from astropy.constants import R_jup, R_sun\n",
    "epochs = nasa_transit_table['pl_tranmid']\n",
    "names = nasa_transit_table['pl_name']\n",
    "simbad_names = nasa_transit_table['pl_name']\n",
    "radius_ratio = (nasa_transit_table['pl_radj'] / nasa_transit_table['st_rad']).decompose().value\n",
    "sky_coords = nasa_transit_table['sky_coord']\n",
    "\n",
    "eclipsing_systems = []\n",
    "transit_depths = []\n",
    "coords = []\n",
    "for p, t0, dur, name, rprs, coord in zip(periods, epochs, durations, names, radius_ratio, sky_coords):\n",
    "    if not any([isinstance(i, np.ma.core.MaskedConstant) for i in [p, t0, dur]]):\n",
    "        eclisping_sys = EclipsingSystem(Time(t0, format='jd'), p, duration=dur, name=name)\n",
    "        eclipsing_systems.append(eclisping_sys)\n",
    "        transit_depths.append(rprs**2)\n",
    "        coords.append(coord)"
   ]
  },
  {
   "cell_type": "markdown",
   "metadata": {},
   "source": [
    "Initialize the observatory, and say we're observing tonight: "
   ]
  },
  {
   "cell_type": "code",
   "execution_count": 282,
   "metadata": {},
   "outputs": [],
   "source": [
    "obs = Observer.at_site('KPNO')\n",
    "start, end = obs.tonight(Time('2018-12-28'), horizon=-12*u.deg)"
   ]
  },
  {
   "cell_type": "markdown",
   "metadata": {},
   "source": [
    "Only compute observablility for transits of exoplanets with $R_p/R_\\star >$ `minimum_radius_ratio` :"
   ]
  },
  {
   "cell_type": "code",
   "execution_count": 288,
   "metadata": {},
   "outputs": [
    {
     "name": "stderr",
     "output_type": "stream",
     "text": [
      "WARNING: ErfaWarning: ERFA function \"taiutc\" yielded 1 of \"dubious year (Note 4)\" [astropy._erfa.core]\n",
      "WARNING: ErfaWarning: ERFA function \"utctai\" yielded 1 of \"dubious year (Note 3)\" [astropy._erfa.core]\n"
     ]
    }
   ],
   "source": [
    "minimum_depth = 0 # 0.0011\n",
    "n_days = 1\n",
    "altitude_limit = 15 * u.deg\n",
    "\n",
    "transit_events = []\n",
    "labels = 'Name, Depth, Ingress, Egress, Alt1, Alt2'.split(', ')\n",
    "\n",
    "for day in range(n_days):\n",
    "    transits_day = []\n",
    "    for es, coord, depths in zip(eclipsing_systems, coords, transit_depths):\n",
    "\n",
    "        next_transit = es.next_primary_ingress_egress_time(start, n_eclipses=1)\n",
    "        ingress = next_transit[0, 0]\n",
    "        egress = next_transit[0, 1]\n",
    "\n",
    "        if egress < end+day*u.day and ingress > start+day*u.day: \n",
    "            ingress_alt = obs.altaz(ingress, coord).alt\n",
    "            egress_alt = obs.altaz(egress, coord).alt\n",
    "            observable = (ingress_alt > altitude_limit) and (egress_alt > altitude_limit)\n",
    "            if observable: \n",
    "                transits_day.append([es.name, round(depths, 4), next_transit[0, 0].iso, next_transit[0, 1].iso, \n",
    "                                     round(ingress_alt.degree, 0),\n",
    "                                     round(egress_alt.degree, 0)])\n",
    "    if len(transits_day) > 0:\n",
    "        transit_events.append(Table(rows=transits_day, names=labels))\n",
    "    else: \n",
    "        transit_events.append(None)"
   ]
  },
  {
   "cell_type": "code",
   "execution_count": 289,
   "metadata": {},
   "outputs": [
    {
     "name": "stdout",
     "output_type": "stream",
     "text": [
      "\n",
      "\n",
      "Transits on 2018-12-28 UTC:\n",
      "      Name       Depth          Ingress                  Egress         Alt1 Alt2\n",
      "---------------- ------ ----------------------- ----------------------- ---- ----\n",
      "        K2-187 b 0.0002 2018-12-28 05:14:35.553 2018-12-28 06:49:32.735 29.0 49.0\n",
      "        K2-257 b 0.0002 2018-12-28 10:42:48.632 2018-12-28 12:03:29.144 37.0 50.0\n",
      "        K2-111 b 0.0002 2018-12-28 02:44:10.855 2018-12-28 05:52:04.729 58.0 74.0\n",
      "EPIC 220674823 b 0.0003 2018-12-28 03:32:47.551 2018-12-28 05:05:43.608 59.0 41.0\n",
      "       HD 3167 b 0.0003 2018-12-28 03:14:55.535 2018-12-28 04:52:51.675 54.0 36.0\n",
      "         K2-35 c 0.0004 2018-12-28 10:09:47.188 2018-12-28 11:51:54.335 46.0 59.0\n",
      "        K2-183 b 0.0006 2018-12-28 08:03:18.506 2018-12-28 08:03:18.506 65.0 65.0\n",
      "        K2-275 b 0.0008 2018-12-28 05:16:31.553 2018-12-28 07:28:05.957 29.0 56.0\n",
      "        K2-151 b 0.0009 2018-12-28 03:24:04.804 2018-12-28 05:05:48.818 63.0 45.0\n",
      "        K2-117 b 0.0013 2018-12-28 08:17:12.662 2018-12-28 09:34:25.674 59.0 68.0\n",
      "        K2-104 b 0.0013 2018-12-28 08:32:59.312 2018-12-28 09:59:32.438 71.0 77.0\n",
      "         K2-91 b 0.0013 2018-12-28 04:53:09.479 2018-12-28 05:46:51.839 81.0 79.0\n",
      "      HD 89345 b 0.0015 2018-12-28 06:34:14.489 2018-12-28 12:13:33.991 21.0 65.0\n",
      "        K2-255 b 0.0015 2018-12-28 09:20:12.874 2018-12-28 11:10:03.558 19.0 40.0\n",
      "        K2-276 b 0.0017 2018-12-28 06:41:19.205 2018-12-28 11:14:39.886 53.0 64.0\n",
      "        KELT-1 b 0.0061 2018-12-28 02:58:23.801 2018-12-28 05:46:33.713 65.0 33.0\n",
      "    TRAPPIST-1 g 0.0075 2018-12-28 02:51:11.829 2018-12-28 04:01:47.419 36.0 23.0\n",
      "       HATS-42 b 0.0094 2018-12-28 05:43:59.825 2018-12-28 09:01:38.050 16.0 24.0\n",
      "          XO-5 b 0.0107 2018-12-28 05:18:35.452 2018-12-28 08:26:51.732 47.0 82.0\n",
      "         K2-25 b 0.0118 2018-12-28 06:28:05.730 2018-12-28 07:32:50.290 66.0 54.0\n",
      "         KPS-1 b 0.0135 2018-12-28 10:05:24.855 2018-12-28 11:48:00.313 53.0 57.0\n",
      "      WASP-104 b 0.0148 2018-12-28 11:21:41.782 2018-12-28 13:07:46.005 65.0 58.0\n",
      "        HATS-1 b 0.0166 2018-12-28 09:44:30.946 2018-12-28 12:16:22.958 20.0 34.0\n",
      "       WASP-43 b 0.0254 2018-12-28 10:39:09.381 2018-12-28 11:50:04.011 47.0 47.0\n"
     ]
    }
   ],
   "source": [
    "for i, table in enumerate(transit_events):\n",
    "    print('\\n\\nTransits on {0} UTC:'.format((start+i*u.day).datetime.date()))\n",
    "    if table is not None: \n",
    "        table.sort('Depth')\n",
    "        table.pprint(max_width=1000, max_lines=1000)\n",
    "    else:\n",
    "        print('None')"
   ]
  },
  {
   "cell_type": "code",
   "execution_count": null,
   "metadata": {},
   "outputs": [],
   "source": []
  }
 ],
 "metadata": {
  "kernelspec": {
   "display_name": "Python 3",
   "language": "python",
   "name": "python3"
  },
  "language_info": {
   "codemirror_mode": {
    "name": "ipython",
    "version": 3
   },
   "file_extension": ".py",
   "mimetype": "text/x-python",
   "name": "python",
   "nbconvert_exporter": "python",
   "pygments_lexer": "ipython3",
   "version": "3.5.4"
  }
 },
 "nbformat": 4,
 "nbformat_minor": 2
}
